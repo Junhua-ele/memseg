{
 "cells": [
  {
   "cell_type": "code",
   "execution_count": 1,
   "metadata": {},
   "outputs": [],
   "source": [
    "datadir=\"/home/qjh/anomaly_data/datasets/mvtec\"\n",
    "texture_source_dir=\"/home/qjh/anomaly_data/datasets/dtd/images\"\n",
    "savedir = \"./saved_model\"\n",
    "target = \"bottle\"\n",
    "fg_root_path = \"/home/qjh/anomaly_data/result/foreground\"\n",
    "fg_path = fg_root_path + f\"/{target}/train/good\"\n",
    "use_mask = True"
   ]
  },
  {
   "cell_type": "code",
   "execution_count": 2,
   "metadata": {},
   "outputs": [],
   "source": [
    "from omegaconf import OmegaConf\n",
    "import torch\n",
    "from main import run\n",
    "\n",
    "config_dict = {\n",
    "    \"EXP_NAME\": \"MemSeg\",\n",
    "    \"SEED\": 42,\n",
    "    \"DATASET\": {\n",
    "        \"datadir\": datadir,\n",
    "        \"texture_source_dir\": texture_source_dir,\n",
    "        \"anomaly_mask_info\": \"./anomaly_mask.json\",\n",
    "        \"target\": target,\n",
    "        \"resize\": [288, 288],\n",
    "        \"imagesize\": 256,\n",
    "        \"structure_grid_size\": 8,\n",
    "        \"transparency_range\": [0.15, 1.0],\n",
    "        \"perlin_scale\": 6,\n",
    "        \"min_perlin_scale\": 0,\n",
    "        \"perlin_noise_threshold\": 0.5,\n",
    "        \"fg_path\": fg_path,\n",
    "        \"use_mask\": use_mask,\n",
    "        \"bg_threshold\" : 30,\n",
    "        \"bg_reverse\"   : True\n",
    "    },\n",
    "    \n",
    "    \"DATALOADER\": {\n",
    "        \"batch_size\": 8,\n",
    "        \"num_workers\": 0\n",
    "    },\n",
    "    \n",
    "    \"MEMORYBANK\": {\n",
    "        \"nb_memory_sample\": 30\n",
    "    },\n",
    "    \n",
    "    \"MODEL\": {\n",
    "        \"feature_extractor_name\": \"resnet18\"\n",
    "    },\n",
    "    \n",
    "    \"TRAIN\": {\n",
    "        \"batch_size\": 6,\n",
    "        \"num_training_steps\": 5,\n",
    "        \"l1_weight\": 0.6,\n",
    "        \"focal_weight\": 0.4,\n",
    "        \"focal_alpha\": None,\n",
    "        \"focal_gamma\": 4,\n",
    "        \"use_mlflow\": True\n",
    "    },\n",
    "    \n",
    "    \"OPTIMIZER\": {\n",
    "        \"lr\": 0.003,\n",
    "        \"weight_decay\": 0.0005\n",
    "    },\n",
    "    \n",
    "    \"SCHEDULER\": {\n",
    "        \"min_lr\": 0.0001,\n",
    "        \"warmup_ratio\": 0.1,\n",
    "        \"use_scheduler\": True\n",
    "    },\n",
    "    \n",
    "    \"LOG\": {\n",
    "        \"log_interval\": 1,\n",
    "        \"eval_interval\": 10\n",
    "    },\n",
    "    \n",
    "    \"RESULT\": {\n",
    "        \"savedir\": savedir\n",
    "    }\n",
    "}\n",
    "\n",
    "cfg = OmegaConf.create(config_dict)"
   ]
  },
  {
   "cell_type": "code",
   "execution_count": 3,
   "metadata": {},
   "outputs": [
    {
     "name": "stderr",
     "output_type": "stream",
     "text": [
      "Device: cuda:0\n",
      "Loading pretrained weights from url (https://download.pytorch.org/models/resnet18-5c106cde.pth)\n",
      "Update 30 normal samples in memory bank\n",
      "TRAIN [   1/5] Loss: 0.4290 (0.4290) L1 Loss: 0.5998 (0.5998) Focal Loss: 0.1726 (0.1726) LR: 1.000e-04 Time: 1.660s,    4.82/s (1.660s,    4.82/s) Data: 0.694 (0.694)\n",
      "TRAIN [   2/5] Loss: 0.4077 (0.4183) L1 Loss: 0.5847 (0.5923) Focal Loss: 0.1422 (0.1574) LR: 2.723e-03 Time: 0.830s,    9.64/s (1.245s,    6.43/s) Data: 0.632 (0.663)\n",
      "TRAIN [   3/5] Loss: 0.2408 (0.3592) L1 Loss: 0.3882 (0.5242) Focal Loss: 0.0198 (0.1115) LR: 1.998e-03 Time: 0.761s,   10.51/s (1.084s,    7.38/s) Data: 0.567 (0.631)\n",
      "TRAIN [   4/5] Loss: 0.1444 (0.3055) L1 Loss: 0.2376 (0.4526) Focal Loss: 0.0045 (0.0848) LR: 1.102e-03 Time: 0.797s,   10.03/s (1.012s,    7.90/s) Data: 0.605 (0.624)\n",
      "TRAIN [   5/5] Loss: 0.1054 (0.2654) L1 Loss: 0.1749 (0.3971) Focal Loss: 0.0011 (0.0680) LR: 3.769e-04 Time: 0.783s,   10.21/s (0.966s,    8.28/s) Data: 0.585 (0.617)\n",
      "/home/qjh/anaconda3/envs/memseg/lib/python3.9/site-packages/sklearn/metrics/_ranking.py:379: UndefinedMetricWarning: Only one class is present in y_true. ROC AUC score is not defined in that case.\n",
      "  warnings.warn(\n"
     ]
    },
    {
     "name": "stdout",
     "output_type": "stream",
     "text": [
      "Compute PRO curve...\n",
      "Sort 5439488 anomaly scores...\n"
     ]
    },
    {
     "name": "stderr",
     "output_type": "stream",
     "text": [
      "/home/qjh/MemSeg-main/metrics/pro_curve_util.py:104: RuntimeWarning: invalid value encountered in divide\n",
      "  np.divide(pro_changes_sorted, num_gt_regions, out=pro_changes_sorted)\n",
      "TEST: AUROC-image: 0.493% | Best-F1-score: 0.863% | Best-threshold: 0.508%\n"
     ]
    },
    {
     "name": "stdout",
     "output_type": "stream",
     "text": [
      "WARNING: Not all x and y values passed to trapezoid(...) are finite. Will continue with only the finite values.\n"
     ]
    },
    {
     "name": "stderr",
     "output_type": "stream",
     "text": [
      "Best Score 0.000% to 62.138%\n"
     ]
    }
   ],
   "source": [
    "assert cfg.DATASET.target is not None, \"Please set DATASET.target\"\n",
    "\n",
    "run(cfg)\n",
    "\n",
    "torch.cuda.empty_cache()"
   ]
  },
  {
   "cell_type": "code",
   "execution_count": null,
   "metadata": {},
   "outputs": [],
   "source": [
    "from IPython.display import Image, display\n",
    "display(Image(f\"saved_model/MemSeg-{target}/{target}/test/good/000_heatmap.png\"))\n",
    "display(Image(f\"saved_model/MemSeg-{target}/{target}/test/good/001_heatmap.png\"))\n",
    "display(Image(f\"saved_model/MemSeg-{target}/{target}/test/good/004_heatmap.png\"))\n",
    "display(Image(f\"saved_model/MemSeg-{target}/{target}/test/good/007_heatmap.png\"))"
   ]
  },
  {
   "cell_type": "code",
   "execution_count": null,
   "metadata": {},
   "outputs": [],
   "source": [
    "import mlflow\n",
    "!mlflow ui --backend-store-uri file:'./mlruns'"
   ]
  }
 ],
 "metadata": {
  "kernelspec": {
   "display_name": "memseg",
   "language": "python",
   "name": "python3"
  },
  "language_info": {
   "codemirror_mode": {
    "name": "ipython",
    "version": 3
   },
   "file_extension": ".py",
   "mimetype": "text/x-python",
   "name": "python",
   "nbconvert_exporter": "python",
   "pygments_lexer": "ipython3",
   "version": "3.9.0"
  }
 },
 "nbformat": 4,
 "nbformat_minor": 2
}
